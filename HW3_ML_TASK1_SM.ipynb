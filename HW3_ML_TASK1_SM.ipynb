{
  "nbformat": 4,
  "nbformat_minor": 0,
  "metadata": {
    "colab": {
      "provenance": [],
      "mount_file_id": "1ukJO69DZC52Bngq7_tj9gCcCxdukoKiF",
      "authorship_tag": "ABX9TyM7LPG1KGghc6zIrsXPIv6q",
      "include_colab_link": true
    },
    "kernelspec": {
      "name": "python3",
      "display_name": "Python 3"
    },
    "language_info": {
      "name": "python"
    }
  },
  "cells": [
    {
      "cell_type": "markdown",
      "metadata": {
        "id": "view-in-github",
        "colab_type": "text"
      },
      "source": [
        "<a href=\"https://colab.research.google.com/github/MarpuriSathvik/ML-HW3/blob/main/HW3_ML_TASK1_SM.ipynb\" target=\"_parent\"><img src=\"https://colab.research.google.com/assets/colab-badge.svg\" alt=\"Open In Colab\"/></a>"
      ]
    },
    {
      "cell_type": "code",
      "execution_count": 1,
      "metadata": {
        "id": "B87hvbKr5MNR"
      },
      "outputs": [],
      "source": [
        "import numpy as np\n",
        "import pandas as pd\n",
        "#from sklearn.cluster import KMeans\n",
        "import scipy \n",
        "import sklearn\n",
        "from collections import Counter\n",
        "from sklearn.metrics import multilabel_confusion_matrix\n",
        "from scipy import spatial"
      ]
    },
    {
      "cell_type": "code",
      "source": [
        "data = pd.read_csv('/content/drive/MyDrive/MG/data.csv')\n",
        "labels = pd.read_csv('/content/drive/MyDrive/MG/label.csv',names=['label'],header=None)"
      ],
      "metadata": {
        "id": "Qn5BAOCc5QrU"
      },
      "execution_count": 2,
      "outputs": []
    },
    {
      "cell_type": "code",
      "source": [
        "data.head()"
      ],
      "metadata": {
        "colab": {
          "base_uri": "https://localhost:8080/",
          "height": 235
        },
        "id": "9BoTlx6X5kx2",
        "outputId": "65594979-64cc-4084-c22d-5cb03b4517db"
      },
      "execution_count": 3,
      "outputs": [
        {
          "output_type": "execute_result",
          "data": {
            "text/plain": [
              "   0  0.1  0.2  0.3  0.4  0.5  0.6  0.7  0.8  0.9  ...  0.658  0.659  0.660  \\\n",
              "0  0    0    0    0    0    0    0    0    0    0  ...      0      0      0   \n",
              "1  0    0    0    0    0    0    0    0    0    0  ...      0      0      0   \n",
              "2  0    0    0    0    0    0    0    0    0    0  ...      0      0      0   \n",
              "3  0    0    0    0    0    0    0    0    0    0  ...      0      0      0   \n",
              "4  0    0    0    0    0    0    0    0    0    0  ...      0      0      0   \n",
              "\n",
              "   0.661  0.662  0.663  0.664  0.665  0.666  0.667  \n",
              "0      0      0      0      0      0      0      0  \n",
              "1      0      0      0      0      0      0      0  \n",
              "2      0      0      0      0      0      0      0  \n",
              "3      0      0      0      0      0      0      0  \n",
              "4      0      0      0      0      0      0      0  \n",
              "\n",
              "[5 rows x 784 columns]"
            ],
            "text/html": [
              "\n",
              "  <div id=\"df-fdd03b24-477d-44c6-ab3c-c3f1c27ca6ff\">\n",
              "    <div class=\"colab-df-container\">\n",
              "      <div>\n",
              "<style scoped>\n",
              "    .dataframe tbody tr th:only-of-type {\n",
              "        vertical-align: middle;\n",
              "    }\n",
              "\n",
              "    .dataframe tbody tr th {\n",
              "        vertical-align: top;\n",
              "    }\n",
              "\n",
              "    .dataframe thead th {\n",
              "        text-align: right;\n",
              "    }\n",
              "</style>\n",
              "<table border=\"1\" class=\"dataframe\">\n",
              "  <thead>\n",
              "    <tr style=\"text-align: right;\">\n",
              "      <th></th>\n",
              "      <th>0</th>\n",
              "      <th>0.1</th>\n",
              "      <th>0.2</th>\n",
              "      <th>0.3</th>\n",
              "      <th>0.4</th>\n",
              "      <th>0.5</th>\n",
              "      <th>0.6</th>\n",
              "      <th>0.7</th>\n",
              "      <th>0.8</th>\n",
              "      <th>0.9</th>\n",
              "      <th>...</th>\n",
              "      <th>0.658</th>\n",
              "      <th>0.659</th>\n",
              "      <th>0.660</th>\n",
              "      <th>0.661</th>\n",
              "      <th>0.662</th>\n",
              "      <th>0.663</th>\n",
              "      <th>0.664</th>\n",
              "      <th>0.665</th>\n",
              "      <th>0.666</th>\n",
              "      <th>0.667</th>\n",
              "    </tr>\n",
              "  </thead>\n",
              "  <tbody>\n",
              "    <tr>\n",
              "      <th>0</th>\n",
              "      <td>0</td>\n",
              "      <td>0</td>\n",
              "      <td>0</td>\n",
              "      <td>0</td>\n",
              "      <td>0</td>\n",
              "      <td>0</td>\n",
              "      <td>0</td>\n",
              "      <td>0</td>\n",
              "      <td>0</td>\n",
              "      <td>0</td>\n",
              "      <td>...</td>\n",
              "      <td>0</td>\n",
              "      <td>0</td>\n",
              "      <td>0</td>\n",
              "      <td>0</td>\n",
              "      <td>0</td>\n",
              "      <td>0</td>\n",
              "      <td>0</td>\n",
              "      <td>0</td>\n",
              "      <td>0</td>\n",
              "      <td>0</td>\n",
              "    </tr>\n",
              "    <tr>\n",
              "      <th>1</th>\n",
              "      <td>0</td>\n",
              "      <td>0</td>\n",
              "      <td>0</td>\n",
              "      <td>0</td>\n",
              "      <td>0</td>\n",
              "      <td>0</td>\n",
              "      <td>0</td>\n",
              "      <td>0</td>\n",
              "      <td>0</td>\n",
              "      <td>0</td>\n",
              "      <td>...</td>\n",
              "      <td>0</td>\n",
              "      <td>0</td>\n",
              "      <td>0</td>\n",
              "      <td>0</td>\n",
              "      <td>0</td>\n",
              "      <td>0</td>\n",
              "      <td>0</td>\n",
              "      <td>0</td>\n",
              "      <td>0</td>\n",
              "      <td>0</td>\n",
              "    </tr>\n",
              "    <tr>\n",
              "      <th>2</th>\n",
              "      <td>0</td>\n",
              "      <td>0</td>\n",
              "      <td>0</td>\n",
              "      <td>0</td>\n",
              "      <td>0</td>\n",
              "      <td>0</td>\n",
              "      <td>0</td>\n",
              "      <td>0</td>\n",
              "      <td>0</td>\n",
              "      <td>0</td>\n",
              "      <td>...</td>\n",
              "      <td>0</td>\n",
              "      <td>0</td>\n",
              "      <td>0</td>\n",
              "      <td>0</td>\n",
              "      <td>0</td>\n",
              "      <td>0</td>\n",
              "      <td>0</td>\n",
              "      <td>0</td>\n",
              "      <td>0</td>\n",
              "      <td>0</td>\n",
              "    </tr>\n",
              "    <tr>\n",
              "      <th>3</th>\n",
              "      <td>0</td>\n",
              "      <td>0</td>\n",
              "      <td>0</td>\n",
              "      <td>0</td>\n",
              "      <td>0</td>\n",
              "      <td>0</td>\n",
              "      <td>0</td>\n",
              "      <td>0</td>\n",
              "      <td>0</td>\n",
              "      <td>0</td>\n",
              "      <td>...</td>\n",
              "      <td>0</td>\n",
              "      <td>0</td>\n",
              "      <td>0</td>\n",
              "      <td>0</td>\n",
              "      <td>0</td>\n",
              "      <td>0</td>\n",
              "      <td>0</td>\n",
              "      <td>0</td>\n",
              "      <td>0</td>\n",
              "      <td>0</td>\n",
              "    </tr>\n",
              "    <tr>\n",
              "      <th>4</th>\n",
              "      <td>0</td>\n",
              "      <td>0</td>\n",
              "      <td>0</td>\n",
              "      <td>0</td>\n",
              "      <td>0</td>\n",
              "      <td>0</td>\n",
              "      <td>0</td>\n",
              "      <td>0</td>\n",
              "      <td>0</td>\n",
              "      <td>0</td>\n",
              "      <td>...</td>\n",
              "      <td>0</td>\n",
              "      <td>0</td>\n",
              "      <td>0</td>\n",
              "      <td>0</td>\n",
              "      <td>0</td>\n",
              "      <td>0</td>\n",
              "      <td>0</td>\n",
              "      <td>0</td>\n",
              "      <td>0</td>\n",
              "      <td>0</td>\n",
              "    </tr>\n",
              "  </tbody>\n",
              "</table>\n",
              "<p>5 rows × 784 columns</p>\n",
              "</div>\n",
              "      <button class=\"colab-df-convert\" onclick=\"convertToInteractive('df-fdd03b24-477d-44c6-ab3c-c3f1c27ca6ff')\"\n",
              "              title=\"Convert this dataframe to an interactive table.\"\n",
              "              style=\"display:none;\">\n",
              "        \n",
              "  <svg xmlns=\"http://www.w3.org/2000/svg\" height=\"24px\"viewBox=\"0 0 24 24\"\n",
              "       width=\"24px\">\n",
              "    <path d=\"M0 0h24v24H0V0z\" fill=\"none\"/>\n",
              "    <path d=\"M18.56 5.44l.94 2.06.94-2.06 2.06-.94-2.06-.94-.94-2.06-.94 2.06-2.06.94zm-11 1L8.5 8.5l.94-2.06 2.06-.94-2.06-.94L8.5 2.5l-.94 2.06-2.06.94zm10 10l.94 2.06.94-2.06 2.06-.94-2.06-.94-.94-2.06-.94 2.06-2.06.94z\"/><path d=\"M17.41 7.96l-1.37-1.37c-.4-.4-.92-.59-1.43-.59-.52 0-1.04.2-1.43.59L10.3 9.45l-7.72 7.72c-.78.78-.78 2.05 0 2.83L4 21.41c.39.39.9.59 1.41.59.51 0 1.02-.2 1.41-.59l7.78-7.78 2.81-2.81c.8-.78.8-2.07 0-2.86zM5.41 20L4 18.59l7.72-7.72 1.47 1.35L5.41 20z\"/>\n",
              "  </svg>\n",
              "      </button>\n",
              "      \n",
              "  <style>\n",
              "    .colab-df-container {\n",
              "      display:flex;\n",
              "      flex-wrap:wrap;\n",
              "      gap: 12px;\n",
              "    }\n",
              "\n",
              "    .colab-df-convert {\n",
              "      background-color: #E8F0FE;\n",
              "      border: none;\n",
              "      border-radius: 50%;\n",
              "      cursor: pointer;\n",
              "      display: none;\n",
              "      fill: #1967D2;\n",
              "      height: 32px;\n",
              "      padding: 0 0 0 0;\n",
              "      width: 32px;\n",
              "    }\n",
              "\n",
              "    .colab-df-convert:hover {\n",
              "      background-color: #E2EBFA;\n",
              "      box-shadow: 0px 1px 2px rgba(60, 64, 67, 0.3), 0px 1px 3px 1px rgba(60, 64, 67, 0.15);\n",
              "      fill: #174EA6;\n",
              "    }\n",
              "\n",
              "    [theme=dark] .colab-df-convert {\n",
              "      background-color: #3B4455;\n",
              "      fill: #D2E3FC;\n",
              "    }\n",
              "\n",
              "    [theme=dark] .colab-df-convert:hover {\n",
              "      background-color: #434B5C;\n",
              "      box-shadow: 0px 1px 3px 1px rgba(0, 0, 0, 0.15);\n",
              "      filter: drop-shadow(0px 1px 2px rgba(0, 0, 0, 0.3));\n",
              "      fill: #FFFFFF;\n",
              "    }\n",
              "  </style>\n",
              "\n",
              "      <script>\n",
              "        const buttonEl =\n",
              "          document.querySelector('#df-fdd03b24-477d-44c6-ab3c-c3f1c27ca6ff button.colab-df-convert');\n",
              "        buttonEl.style.display =\n",
              "          google.colab.kernel.accessAllowed ? 'block' : 'none';\n",
              "\n",
              "        async function convertToInteractive(key) {\n",
              "          const element = document.querySelector('#df-fdd03b24-477d-44c6-ab3c-c3f1c27ca6ff');\n",
              "          const dataTable =\n",
              "            await google.colab.kernel.invokeFunction('convertToInteractive',\n",
              "                                                     [key], {});\n",
              "          if (!dataTable) return;\n",
              "\n",
              "          const docLinkHtml = 'Like what you see? Visit the ' +\n",
              "            '<a target=\"_blank\" href=https://colab.research.google.com/notebooks/data_table.ipynb>data table notebook</a>'\n",
              "            + ' to learn more about interactive tables.';\n",
              "          element.innerHTML = '';\n",
              "          dataTable['output_type'] = 'display_data';\n",
              "          await google.colab.output.renderOutput(dataTable, element);\n",
              "          const docLink = document.createElement('div');\n",
              "          docLink.innerHTML = docLinkHtml;\n",
              "          element.appendChild(docLink);\n",
              "        }\n",
              "      </script>\n",
              "    </div>\n",
              "  </div>\n",
              "  "
            ]
          },
          "metadata": {},
          "execution_count": 3
        }
      ]
    },
    {
      "cell_type": "code",
      "source": [
        "data.count()"
      ],
      "metadata": {
        "colab": {
          "base_uri": "https://localhost:8080/"
        },
        "id": "pTPSu6sU5lTt",
        "outputId": "5e0a611a-0890-4ac7-c874-0fcb15c81d2c"
      },
      "execution_count": 4,
      "outputs": [
        {
          "output_type": "execute_result",
          "data": {
            "text/plain": [
              "0        9999\n",
              "0.1      9999\n",
              "0.2      9999\n",
              "0.3      9999\n",
              "0.4      9999\n",
              "         ... \n",
              "0.663    9999\n",
              "0.664    9999\n",
              "0.665    9999\n",
              "0.666    9999\n",
              "0.667    9999\n",
              "Length: 784, dtype: int64"
            ]
          },
          "metadata": {},
          "execution_count": 4
        }
      ]
    },
    {
      "cell_type": "code",
      "source": [
        "#Split data\n",
        "from sklearn.model_selection import train_test_split\n",
        "train_data, test_data = train_test_split( data, test_size=0.08, random_state=42)\n",
        "train_labels, test_labels = train_test_split( labels, test_size=0.08, random_state=42)"
      ],
      "metadata": {
        "id": "m7Td9xRL5m0k"
      },
      "execution_count": 5,
      "outputs": []
    },
    {
      "cell_type": "code",
      "source": [
        "class KMeans:\n",
        "    \n",
        "    def calculate_SSE(self, centroid_value_dict, centroid_dict,data):\n",
        "        sse_data = 0\n",
        "        for i in centroid_dict:\n",
        "            sse_cluster = 0\n",
        "            # np.sum()\n",
        "            for j in centroid_dict[i]:\n",
        "                dp = list(data.iloc[int(j)])\n",
        "                for a,b in zip(centroid_value_dict[i],dp):\n",
        "                    sse_cluster += (a-b)**2\n",
        "            sse_data+=sse_cluster\n",
        "        return sse_data    \n",
        "    \n",
        "    def Initialize_Centroids(self,data,K):\n",
        "        m = data.shape[0]\n",
        "        centroid_value_dict={}\n",
        "        for i in range(K):\n",
        "            r = np.random.randint(0, m-1)\n",
        "            centroid_value_dict[i] = data.iloc[r]\n",
        "        return centroid_value_dict\n",
        "    \n",
        "    def jaccard_similarity(self,centroid, dp):\n",
        "        intersection = len(list(set(centroid).intersection(dp)))\n",
        "        union = (len(set(centroid)) + len(set(dp))) - intersection\n",
        "        return float(intersection) / union\n",
        "\n",
        "    def train_Kmeans(self,data,K,max_iter=20,mode=1,tol=10):\n",
        "        #Mode = 1 => Euclidean np.linalg.norm(x-list(data.iloc[i,:]))\n",
        "        #Mode = 2 => Jaccard\n",
        "        #Mode = 3 => Cosine\n",
        "        centroid_value_dict = self.Initialize_Centroids(data,K)\n",
        "        new_centroid_value_dict = {}\n",
        "        count = 0\n",
        "        centroid_dict = {}\n",
        "        convergence = False\n",
        "        while((count<max_iter) and not convergence):\n",
        "            \n",
        "            for i in list(centroid_value_dict.keys()):\n",
        "                centroid_dict[i]=[]\n",
        "            for i in range(data.shape[0]):\n",
        "                x = data.iloc[i]\n",
        "                if mode==1 :\n",
        "                    distance_measure = [np.linalg.norm(x-centroid_value_dict[j])  for j in centroid_value_dict]\n",
        "                    idx = np.argmin(distance_measure)\n",
        "                    centroid_dict[idx].append(i)\n",
        "                elif mode==2 :\n",
        "                    distance_measure = [self.jaccard_similarity(list(x),centroid_value_dict[j]) for j in centroid_value_dict]\n",
        "                    idx = np.argmax(distance_measure)\n",
        "                    centroid_dict[idx].append(i)\n",
        "                elif mode==3 :\n",
        "                    distance_measure = [1-scipy.spatial.distance.cosine(x,list(centroid_value_dict[j]))  for j in centroid_value_dict]\n",
        "                    idx = np.argmax(distance_measure)\n",
        "                    centroid_dict[idx].append(i)\n",
        "                \n",
        "                prev_centroids=dict(centroid_value_dict)\n",
        "                \n",
        "            \n",
        "            for i in centroid_dict:\n",
        "                if len(centroid_dict[i]):\n",
        "                    dps_centroid = centroid_dict[i]\n",
        "                    centroid_value_dict[i] = np.average(data.iloc[dps_centroid],axis=0)\n",
        "            \n",
        "            \n",
        "            current_tol=-1\n",
        "            for i in centroid_value_dict:\n",
        "                prev_centroid_point = prev_centroids[i]\n",
        "                new_centroid_point = centroid_value_dict[i]\n",
        "                change = np.sum(np.absolute(new_centroid_point-prev_centroid_point))\n",
        "                current_tol = max(change, current_tol)\n",
        "                \n",
        "            print(\"Tolerance for the Iteration \",count,\": \",current_tol)\n",
        "            \n",
        "            count+=1\n",
        "            if (current_tol<10):\n",
        "                convergence = True\n",
        "                break\n",
        "           # print(\"KMeans Iteration\",count)\n",
        "        return centroid_value_dict,centroid_dict\n",
        "    "
      ],
      "metadata": {
        "id": "VdJc98Wq5oZW"
      },
      "execution_count": 6,
      "outputs": []
    },
    {
      "cell_type": "code",
      "source": [
        "def predict_cluster_labels(C, S, labels):\n",
        "    '''\n",
        "    Input : C -> Centroids\n",
        "            S -> Set of Indicies corresponding to Centroid C\n",
        "            data -> Data used to form clusters\n",
        "    Output : Returns an array of size K having labels based on majority voting in the cluster\n",
        "    '''\n",
        "    cluster_labels = np.zeros(10,dtype=int)\n",
        "    for c in C:\n",
        "        labels_of_points = []\n",
        "        for point in S[c]:\n",
        "            labels_of_points.extend(labels.iloc[point])\n",
        "        counter = Counter(labels_of_points)\n",
        "        try:\n",
        "            cluster_labels[c] = max(counter, key=counter.get)\n",
        "        except:\n",
        "            cluster_labels[c] = np.random.randint(0,9)\n",
        "    return cluster_labels"
      ],
      "metadata": {
        "id": "KimZlnwQ5qAe"
      },
      "execution_count": 7,
      "outputs": []
    },
    {
      "cell_type": "code",
      "source": [
        "def jaccard_similarity(centroid, dp):\n",
        "        intersection = len(list(set(centroid).intersection(dp)))\n",
        "        union = (len(set(centroid)) + len(set(dp))) - intersection\n",
        "        return float(intersection) / union"
      ],
      "metadata": {
        "id": "gcWnoeWK5re_"
      },
      "execution_count": 8,
      "outputs": []
    },
    {
      "cell_type": "code",
      "source": [
        "def accuracy(centroids, centroid_Labels, test_data, true_labels, mode=1):\n",
        "    y_true = list(true_labels['label']);\n",
        "    y_pred = []\n",
        "    for index in range(test_data.shape[0]):\n",
        "        featureset = test_data.iloc[index]\n",
        "        if mode==1:\n",
        "            distances = [np.linalg.norm(featureset - centroids[centroid]) for centroid in centroids]\n",
        "            classification = distances.index(min(distances))\n",
        "            y_pred.append(centroid_Labels[classification])\n",
        "        elif mode==2:\n",
        "            similarity = [jaccard_similarity(featureset, centroids[centroid]) for centroid in centroids]\n",
        "            classification = similarity.index(max(similarity))\n",
        "            y_pred.append(centroid_Labels[classification]) \n",
        "        elif mode==3:\n",
        "            similarity = [1 - spatial.distance.cosine(featureset, centroids[centroid]) for centroid in centroids]\n",
        "            classification = similarity.index(max(similarity))\n",
        "            y_pred.append(centroid_Labels[classification])\n",
        "    denominator = test_data.shape[0]\n",
        "    correctly_classified = 0\n",
        "    for i in range(0,len(y_pred)):\n",
        "        if y_true[i] == y_pred[i]:\n",
        "            correctly_classified += 1\n",
        "    accuracy = correctly_classified/denominator\n",
        "    return accuracy"
      ],
      "metadata": {
        "id": "olI8nvLe5s2P"
      },
      "execution_count": 9,
      "outputs": []
    },
    {
      "cell_type": "code",
      "source": [
        "model1 = KMeans()\n",
        "centroids1,clusters1 = model1.train_Kmeans(data,10, max_iter=100,mode=1)"
      ],
      "metadata": {
        "colab": {
          "base_uri": "https://localhost:8080/"
        },
        "id": "nM8jwbIa5uhz",
        "outputId": "1a365bb5-ff79-4a2a-fea2-c4f47c1f5429"
      },
      "execution_count": 10,
      "outputs": [
        {
          "output_type": "stream",
          "name": "stdout",
          "text": [
            "Tolerance for the Iteration  0 :  24347.149253731346\n",
            "Tolerance for the Iteration  1 :  5738.047340760984\n",
            "Tolerance for the Iteration  2 :  4233.401207243461\n",
            "Tolerance for the Iteration  3 :  3053.286773212517\n",
            "Tolerance for the Iteration  4 :  2260.020994575045\n",
            "Tolerance for the Iteration  5 :  2071.9663072077083\n",
            "Tolerance for the Iteration  6 :  1332.8198378882962\n",
            "Tolerance for the Iteration  7 :  930.60627026363\n",
            "Tolerance for the Iteration  8 :  953.1505223322054\n",
            "Tolerance for the Iteration  9 :  1113.2957639806136\n",
            "Tolerance for the Iteration  10 :  905.9376575263857\n",
            "Tolerance for the Iteration  11 :  869.7334801657107\n",
            "Tolerance for the Iteration  12 :  637.5754923413567\n",
            "Tolerance for the Iteration  13 :  789.0475380543317\n",
            "Tolerance for the Iteration  14 :  562.6161364108963\n",
            "Tolerance for the Iteration  15 :  508.79689209278865\n",
            "Tolerance for the Iteration  16 :  422.20245952058326\n",
            "Tolerance for the Iteration  17 :  437.27526928466716\n",
            "Tolerance for the Iteration  18 :  500.12753199098916\n",
            "Tolerance for the Iteration  19 :  450.0578106973096\n",
            "Tolerance for the Iteration  20 :  360.7372386083461\n",
            "Tolerance for the Iteration  21 :  479.8503844090827\n",
            "Tolerance for the Iteration  22 :  540.6847622484577\n",
            "Tolerance for the Iteration  23 :  457.5011218466175\n",
            "Tolerance for the Iteration  24 :  286.15076268600563\n",
            "Tolerance for the Iteration  25 :  334.983817570581\n",
            "Tolerance for the Iteration  26 :  368.95918021134656\n",
            "Tolerance for the Iteration  27 :  523.9645446912449\n",
            "Tolerance for the Iteration  28 :  423.9991599384589\n",
            "Tolerance for the Iteration  29 :  422.1092447615289\n",
            "Tolerance for the Iteration  30 :  353.3005952055168\n",
            "Tolerance for the Iteration  31 :  379.68167683545767\n",
            "Tolerance for the Iteration  32 :  314.685814766559\n",
            "Tolerance for the Iteration  33 :  353.41892820989415\n",
            "Tolerance for the Iteration  34 :  406.0179089799029\n",
            "Tolerance for the Iteration  35 :  485.1379889706937\n",
            "Tolerance for the Iteration  36 :  410.66171838807884\n",
            "Tolerance for the Iteration  37 :  405.8994943783971\n",
            "Tolerance for the Iteration  38 :  313.2557736339062\n",
            "Tolerance for the Iteration  39 :  270.84944378048107\n",
            "Tolerance for the Iteration  40 :  198.09096987388284\n",
            "Tolerance for the Iteration  41 :  219.08210815141769\n",
            "Tolerance for the Iteration  42 :  268.75963439753616\n",
            "Tolerance for the Iteration  43 :  215.23117275953877\n",
            "Tolerance for the Iteration  44 :  295.0940055277224\n",
            "Tolerance for the Iteration  45 :  142.2762331838564\n",
            "Tolerance for the Iteration  46 :  89.43857145153261\n",
            "Tolerance for the Iteration  47 :  115.20089549818667\n",
            "Tolerance for the Iteration  48 :  108.81146063793906\n",
            "Tolerance for the Iteration  49 :  116.5436239308056\n",
            "Tolerance for the Iteration  50 :  134.61616780298192\n",
            "Tolerance for the Iteration  51 :  98.14033327465825\n",
            "Tolerance for the Iteration  52 :  110.26851025869749\n",
            "Tolerance for the Iteration  53 :  89.8741301586229\n",
            "Tolerance for the Iteration  54 :  120.59017653662775\n",
            "Tolerance for the Iteration  55 :  87.96258073283025\n",
            "Tolerance for the Iteration  56 :  52.910869217991404\n",
            "Tolerance for the Iteration  57 :  49.458384355933696\n",
            "Tolerance for the Iteration  58 :  35.02775917711192\n",
            "Tolerance for the Iteration  59 :  24.847836555553393\n",
            "Tolerance for the Iteration  60 :  37.53376729048015\n",
            "Tolerance for the Iteration  61 :  31.1732060317046\n",
            "Tolerance for the Iteration  62 :  34.38675522777493\n",
            "Tolerance for the Iteration  63 :  34.300582514240006\n",
            "Tolerance for the Iteration  64 :  40.77428057553953\n",
            "Tolerance for the Iteration  65 :  33.63848920863305\n",
            "Tolerance for the Iteration  66 :  45.18332822531224\n",
            "Tolerance for the Iteration  67 :  73.1519824126147\n",
            "Tolerance for the Iteration  68 :  87.21842725043933\n",
            "Tolerance for the Iteration  69 :  73.09967716224793\n",
            "Tolerance for the Iteration  70 :  68.20116479620097\n",
            "Tolerance for the Iteration  71 :  65.48458409876683\n",
            "Tolerance for the Iteration  72 :  71.40179372197312\n",
            "Tolerance for the Iteration  73 :  62.950437592821736\n",
            "Tolerance for the Iteration  74 :  44.93008157655174\n",
            "Tolerance for the Iteration  75 :  43.33558868476772\n",
            "Tolerance for the Iteration  76 :  0.0\n"
          ]
        }
      ]
    },
    {
      "cell_type": "code",
      "source": [
        "Euclidean_SSE = model1.calculate_SSE(centroids1,clusters1,data)"
      ],
      "metadata": {
        "id": "fGjbnoEt5wFy"
      },
      "execution_count": 11,
      "outputs": []
    },
    {
      "cell_type": "code",
      "source": [
        "print(\"Euclidean SSE:\",Euclidean_SSE)"
      ],
      "metadata": {
        "colab": {
          "base_uri": "https://localhost:8080/"
        },
        "id": "i03-MdyC5xdi",
        "outputId": "3f6a6fc8-389a-4083-80ea-0b05e28ba3b0"
      },
      "execution_count": 12,
      "outputs": [
        {
          "output_type": "stream",
          "name": "stdout",
          "text": [
            "Euclidean SSE: 25436336745.41117\n"
          ]
        }
      ]
    },
    {
      "cell_type": "code",
      "source": [
        "cluster_labels1 = predict_cluster_labels(centroids1,clusters1,labels)\n",
        "cluster_labels1"
      ],
      "metadata": {
        "colab": {
          "base_uri": "https://localhost:8080/"
        },
        "id": "gD6lPtYG5yxb",
        "outputId": "ad9fce4b-8406-41a2-97da-9901b010ac07"
      },
      "execution_count": 13,
      "outputs": [
        {
          "output_type": "execute_result",
          "data": {
            "text/plain": [
              "array([2, 3, 7, 9, 1, 0, 8, 3, 5, 9])"
            ]
          },
          "metadata": {},
          "execution_count": 13
        }
      ]
    },
    {
      "cell_type": "code",
      "source": [
        "Accuracy_Euclidean = accuracy(centroids1, cluster_labels1,test_data,test_labels)\n",
        "Accuracy_Euclidean"
      ],
      "metadata": {
        "colab": {
          "base_uri": "https://localhost:8080/"
        },
        "id": "TrX4DiVe50Ic",
        "outputId": "0fbc84a4-05e5-4ac0-e3cc-4fa3933ccdc7"
      },
      "execution_count": 14,
      "outputs": [
        {
          "output_type": "execute_result",
          "data": {
            "text/plain": [
              "0.08625"
            ]
          },
          "metadata": {},
          "execution_count": 14
        }
      ]
    },
    {
      "cell_type": "code",
      "source": [
        "model2 = KMeans()\n",
        "centroids2,clusters2 = model2.train_Kmeans(data,10, max_iter=100,mode=2)\n",
        "Jaccard_SSE = model2.calculate_SSE(centroids2,clusters2,data)"
      ],
      "metadata": {
        "colab": {
          "base_uri": "https://localhost:8080/"
        },
        "id": "PXoA48b451jA",
        "outputId": "6972dfc2-d4f7-4998-c128-e3d835bb1bc1"
      },
      "execution_count": 15,
      "outputs": [
        {
          "output_type": "stream",
          "name": "stdout",
          "text": [
            "Tolerance for the Iteration  0 :  40695.50313339302\n",
            "Tolerance for the Iteration  1 :  13917.948354561282\n",
            "Tolerance for the Iteration  2 :  5815.934105099917\n",
            "Tolerance for the Iteration  3 :  1425.5962568670661\n",
            "Tolerance for the Iteration  4 :  1281.7922522117983\n",
            "Tolerance for the Iteration  5 :  1282.9011947657277\n",
            "Tolerance for the Iteration  6 :  1570.4865947464314\n",
            "Tolerance for the Iteration  7 :  1758.829287488664\n",
            "Tolerance for the Iteration  8 :  1928.0444562809012\n",
            "Tolerance for the Iteration  9 :  1061.782825588735\n",
            "Tolerance for the Iteration  10 :  908.1288600941311\n",
            "Tolerance for the Iteration  11 :  290.91785341689706\n",
            "Tolerance for the Iteration  12 :  0.0\n"
          ]
        }
      ]
    },
    {
      "cell_type": "code",
      "source": [
        "print(\"Jacard SSE:\",Jaccard_SSE)"
      ],
      "metadata": {
        "colab": {
          "base_uri": "https://localhost:8080/"
        },
        "id": "96-a6WUW53HA",
        "outputId": "32354194-5f49-4a9d-9871-e20b57a6093e"
      },
      "execution_count": 16,
      "outputs": [
        {
          "output_type": "stream",
          "name": "stdout",
          "text": [
            "Jacard SSE: 34361687572.938736\n"
          ]
        }
      ]
    },
    {
      "cell_type": "code",
      "source": [
        "cluster_labels2 = predict_cluster_labels(centroids2,clusters2,labels)\n",
        "cluster_labels2"
      ],
      "metadata": {
        "colab": {
          "base_uri": "https://localhost:8080/"
        },
        "id": "ri7A4e9-54rR",
        "outputId": "42ae9da8-4666-428a-fe1e-3e42d09f83eb"
      },
      "execution_count": 17,
      "outputs": [
        {
          "output_type": "execute_result",
          "data": {
            "text/plain": [
              "array([1, 8, 3, 1, 4, 4, 0, 5, 0, 3])"
            ]
          },
          "metadata": {},
          "execution_count": 17
        }
      ]
    },
    {
      "cell_type": "code",
      "source": [
        "Accuracy_Jaccard = accuracy(centroids2, cluster_labels2,test_data,test_labels)\n",
        "Accuracy_Jaccard"
      ],
      "metadata": {
        "colab": {
          "base_uri": "https://localhost:8080/"
        },
        "id": "UHVLkCam554W",
        "outputId": "600692a0-f136-4a6a-a479-3bb441c6f08a"
      },
      "execution_count": 29,
      "outputs": [
        {
          "output_type": "execute_result",
          "data": {
            "text/plain": [
              "0.125"
            ]
          },
          "metadata": {},
          "execution_count": 29
        }
      ]
    },
    {
      "cell_type": "code",
      "source": [
        "model3 = KMeans()\n",
        "centroids3,clusters3 = model3.train_Kmeans(data,10, max_iter = 100,mode=3)"
      ],
      "metadata": {
        "colab": {
          "base_uri": "https://localhost:8080/"
        },
        "id": "cZg0-vvp57Ra",
        "outputId": "31b6cce0-67f3-4631-d858-159600814fb5"
      },
      "execution_count": 19,
      "outputs": [
        {
          "output_type": "stream",
          "name": "stdout",
          "text": [
            "Tolerance for the Iteration  0 :  29005.20350109409\n",
            "Tolerance for the Iteration  1 :  4946.992989433635\n",
            "Tolerance for the Iteration  2 :  2392.016525036871\n",
            "Tolerance for the Iteration  3 :  2079.6555588307046\n",
            "Tolerance for the Iteration  4 :  1953.7509658163203\n",
            "Tolerance for the Iteration  5 :  1520.6291136337577\n",
            "Tolerance for the Iteration  6 :  1371.93200360604\n",
            "Tolerance for the Iteration  7 :  1063.3528922427229\n",
            "Tolerance for the Iteration  8 :  1147.9830196399348\n",
            "Tolerance for the Iteration  9 :  1025.1703594091614\n",
            "Tolerance for the Iteration  10 :  1079.6176691729322\n",
            "Tolerance for the Iteration  11 :  1238.9355528652138\n",
            "Tolerance for the Iteration  12 :  957.666690027849\n",
            "Tolerance for the Iteration  13 :  892.8394680563185\n",
            "Tolerance for the Iteration  14 :  870.8358227645856\n",
            "Tolerance for the Iteration  15 :  875.8262181069956\n",
            "Tolerance for the Iteration  16 :  687.4192635201576\n",
            "Tolerance for the Iteration  17 :  664.972055423536\n",
            "Tolerance for the Iteration  18 :  580.2144641705918\n",
            "Tolerance for the Iteration  19 :  595.9488586479367\n",
            "Tolerance for the Iteration  20 :  676.172942626318\n",
            "Tolerance for the Iteration  21 :  663.7381058289315\n",
            "Tolerance for the Iteration  22 :  546.3189000842799\n",
            "Tolerance for the Iteration  23 :  513.1144955434947\n",
            "Tolerance for the Iteration  24 :  371.7448671304015\n",
            "Tolerance for the Iteration  25 :  297.21128032836236\n",
            "Tolerance for the Iteration  26 :  366.7365081622655\n",
            "Tolerance for the Iteration  27 :  319.36308056385224\n",
            "Tolerance for the Iteration  28 :  479.29730024968774\n",
            "Tolerance for the Iteration  29 :  497.9601436781609\n",
            "Tolerance for the Iteration  30 :  525.7765067466266\n",
            "Tolerance for the Iteration  31 :  707.708245051373\n",
            "Tolerance for the Iteration  32 :  543.4287771034244\n",
            "Tolerance for the Iteration  33 :  534.121625914642\n",
            "Tolerance for the Iteration  34 :  441.6778973067829\n",
            "Tolerance for the Iteration  35 :  424.257488325155\n",
            "Tolerance for the Iteration  36 :  415.16848499792263\n",
            "Tolerance for the Iteration  37 :  553.7438831971106\n",
            "Tolerance for the Iteration  38 :  621.2776549137529\n",
            "Tolerance for the Iteration  39 :  495.0808562082208\n",
            "Tolerance for the Iteration  40 :  473.14623828722097\n",
            "Tolerance for the Iteration  41 :  398.97984829802334\n",
            "Tolerance for the Iteration  42 :  333.0470477227364\n",
            "Tolerance for the Iteration  43 :  326.4415953806673\n",
            "Tolerance for the Iteration  44 :  304.662554880108\n",
            "Tolerance for the Iteration  45 :  215.766633533696\n",
            "Tolerance for the Iteration  46 :  118.83396234306933\n",
            "Tolerance for the Iteration  47 :  153.00247799565523\n",
            "Tolerance for the Iteration  48 :  114.9386294378381\n",
            "Tolerance for the Iteration  49 :  123.5605030942924\n",
            "Tolerance for the Iteration  50 :  94.13928955895085\n",
            "Tolerance for the Iteration  51 :  109.93148880105377\n",
            "Tolerance for the Iteration  52 :  89.69525654260799\n",
            "Tolerance for the Iteration  53 :  70.89963166110664\n",
            "Tolerance for the Iteration  54 :  76.41618298220368\n",
            "Tolerance for the Iteration  55 :  95.95303395029434\n",
            "Tolerance for the Iteration  56 :  87.98689018308491\n",
            "Tolerance for the Iteration  57 :  60.324870708071614\n",
            "Tolerance for the Iteration  58 :  71.13548687084\n",
            "Tolerance for the Iteration  59 :  0.0\n"
          ]
        }
      ]
    },
    {
      "cell_type": "code",
      "source": [
        "Cosine_SSE = model3.calculate_SSE(centroids3,clusters3,data)"
      ],
      "metadata": {
        "id": "NpIS0hxt58lx"
      },
      "execution_count": 20,
      "outputs": []
    },
    {
      "cell_type": "code",
      "source": [
        "print(\"Euclidean SSE:\",Euclidean_SSE)\n",
        "print(\"Jacard SSE:\",Jaccard_SSE)\n",
        "print(\"Cosine SSE :\",Cosine_SSE)"
      ],
      "metadata": {
        "colab": {
          "base_uri": "https://localhost:8080/"
        },
        "id": "6TML32e05-Jg",
        "outputId": "63c731cd-d29d-4f0b-a04e-8473c194a424"
      },
      "execution_count": 21,
      "outputs": [
        {
          "output_type": "stream",
          "name": "stdout",
          "text": [
            "Euclidean SSE: 25436336745.41117\n",
            "Jacard SSE: 34361687572.938736\n",
            "Cosine SSE : 25561036925.939995\n"
          ]
        }
      ]
    },
    {
      "cell_type": "code",
      "source": [
        "cluster_labels3 = predict_cluster_labels(centroids3,clusters3,labels)\n",
        "cluster_labels3"
      ],
      "metadata": {
        "colab": {
          "base_uri": "https://localhost:8080/"
        },
        "id": "luTwPNVT5_QF",
        "outputId": "5a49596b-a59e-4270-d483-156c03e8c29f"
      },
      "execution_count": 22,
      "outputs": [
        {
          "output_type": "execute_result",
          "data": {
            "text/plain": [
              "array([7, 8, 2, 6, 0, 1, 3, 9, 5, 4])"
            ]
          },
          "metadata": {},
          "execution_count": 22
        }
      ]
    },
    {
      "cell_type": "code",
      "source": [
        "Accuracy_Cosine = accuracy(centroids3, cluster_labels3,test_data,test_labels)\n",
        "Accuracy_Euclidean\n",
        "Accuracy_Jaccard\n",
        "Accuracy_Cosine"
      ],
      "metadata": {
        "colab": {
          "base_uri": "https://localhost:8080/"
        },
        "id": "bSsTRuH-6AkN",
        "outputId": "bc2501c9-a5b4-40c2-e10d-617f8725f9db"
      },
      "execution_count": 28,
      "outputs": [
        {
          "output_type": "execute_result",
          "data": {
            "text/plain": [
              "0.09125"
            ]
          },
          "metadata": {},
          "execution_count": 28
        }
      ]
    },
    {
      "cell_type": "code",
      "source": [
        "print(\"Euclidean accuracy:\",Accuracy_Euclidean)\n",
        "print(\"Jacard accuracy:\",Accuracy_Jaccard)\n",
        "print(\"Cosine accuracy :\",Accuracy_Cosine)"
      ],
      "metadata": {
        "colab": {
          "base_uri": "https://localhost:8080/"
        },
        "id": "PNbTPvCE6BtH",
        "outputId": "a4c5d243-51a9-45f9-dfd7-4173d11231fb"
      },
      "execution_count": 27,
      "outputs": [
        {
          "output_type": "stream",
          "name": "stdout",
          "text": [
            "Euclidean accuracy: 0.08625\n",
            "Jacard accuracy: 0.125\n",
            "Cosine accuracy : 0.09125\n"
          ]
        }
      ]
    }
  ]
}